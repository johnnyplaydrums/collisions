{
 "cells": [
  {
   "cell_type": "code",
   "execution_count": 1,
   "metadata": {
    "collapsed": false
   },
   "outputs": [
    {
     "data": {
      "text/plain": [
       "'/Users/mhendrickson/anaconda/bin/python'"
      ]
     },
     "execution_count": 1,
     "metadata": {},
     "output_type": "execute_result"
    }
   ],
   "source": [
    "sys.executable"
   ]
  },
  {
   "cell_type": "code",
   "execution_count": 1,
   "metadata": {
    "collapsed": false
   },
   "outputs": [
    {
     "data": {
      "text/plain": [
       "<pyspark.context.SparkContext at 0x108709510>"
      ]
     },
     "execution_count": 1,
     "metadata": {},
     "output_type": "execute_result"
    }
   ],
   "source": [
    "sc"
   ]
  },
  {
   "cell_type": "code",
   "execution_count": 11,
   "metadata": {
    "collapsed": true
   },
   "outputs": [],
   "source": [
    "import geopandas as gpd\n",
    "import pyproj\n",
    "import shapely.geometry as geom\n",
    "import csv\n",
    "import datetime"
   ]
  },
  {
   "cell_type": "code",
   "execution_count": 12,
   "metadata": {
    "collapsed": false
   },
   "outputs": [],
   "source": [
    "# proj = pyproj.Proj(init='epsg:2263', preserve_units=True)\n",
    "COLLISIONS_FN = 'data/collisions_cleaned.csv'\n",
    "# JANUARY_FN = 'data/1january.csv'"
   ]
  },
  {
   "cell_type": "code",
   "execution_count": 13,
   "metadata": {
    "collapsed": false
   },
   "outputs": [],
   "source": [
    "collisions = sc.textFile(COLLISIONS_FN,use_unicode=False).cache()\n",
    "# january = sc.textFile(JANUARY_FN,use_unicode=False).cache()"
   ]
  },
  {
   "cell_type": "code",
   "execution_count": 118,
   "metadata": {
    "collapsed": false
   },
   "outputs": [
    {
     "data": {
      "text/plain": [
       "[(0, 'DATE'),\n",
       " (1, 'TIME'),\n",
       " (2, 'BOROUGH'),\n",
       " (3, 'ZIP CODE'),\n",
       " (4, 'LATITUDE'),\n",
       " (5, 'LONGITUDE'),\n",
       " (6, 'LOCATION'),\n",
       " (7, 'ON STREET NAME'),\n",
       " (8, 'CROSS STREET NAME'),\n",
       " (9, 'OFF STREET NAME'),\n",
       " (10, 'NUMBER OF PERSONS INJURED'),\n",
       " (11, 'NUMBER OF PERSONS KILLED'),\n",
       " (12, 'NUMBER OF PEDESTRIANS INJURED'),\n",
       " (13, 'NUMBER OF PEDESTRIANS KILLED'),\n",
       " (14, 'NUMBER OF CYCLIST INJURED'),\n",
       " (15, 'NUMBER OF CYCLIST KILLED'),\n",
       " (16, 'NUMBER OF MOTORIST INJURED'),\n",
       " (17, 'NUMBER OF MOTORIST KILLED'),\n",
       " (18, 'CONTRIBUTING FACTOR VEHICLE 1'),\n",
       " (19, 'CONTRIBUTING FACTOR VEHICLE 2'),\n",
       " (20, 'CONTRIBUTING FACTOR VEHICLE 3'),\n",
       " (21, 'CONTRIBUTING FACTOR VEHICLE 4'),\n",
       " (22, 'CONTRIBUTING FACTOR VEHICLE 5'),\n",
       " (23, 'UNIQUE KEY'),\n",
       " (24, 'VEHICLE TYPE CODE 1'),\n",
       " (25, 'VEHICLE TYPE CODE 2'),\n",
       " (26, 'VEHICLE TYPE CODE 3'),\n",
       " (27, 'VEHICLE TYPE CODE 4'),\n",
       " (28, 'VEHICLE TYPE CODE 5'),\n",
       " (29, 'Counts'),\n",
       " (30, 'Collision Rate'),\n",
       " (31, 'LAT'),\n",
       " (32, 'LONG')]"
      ]
     },
     "execution_count": 118,
     "metadata": {},
     "output_type": "execute_result"
    }
   ],
   "source": [
    "list(enumerate(collisons.first().split(',')))\n"
   ]
  },
  {
   "cell_type": "markdown",
   "metadata": {},
   "source": [
    "# Injury Totals by Year"
   ]
  },
  {
   "cell_type": "code",
   "execution_count": 119,
   "metadata": {
    "collapsed": false
   },
   "outputs": [
    {
     "data": {
      "text/plain": [
       "[('2017', 10322),\n",
       " ('2016', 36552),\n",
       " ('2013', 46939),\n",
       " ('2015', 43263),\n",
       " ('2012', 23564),\n",
       " ('2014', 43312)]"
      ]
     },
     "execution_count": 119,
     "metadata": {},
     "output_type": "execute_result"
    }
   ],
   "source": [
    "def extractInjuries(partitionId,partition):\n",
    "    if partitionId == 0:\n",
    "        partition.next()\n",
    "    import csv\n",
    "    reader = csv.reader(partition)\n",
    "    for row in reader:\n",
    "        if row[10]!= '0':\n",
    "            injury_count = int(row[10])\n",
    "            year = row[0].split('/')[2]            \n",
    "            yield (year,injury_count)\n",
    "\n",
    "injuryRecords = collisions.mapPartitionsWithIndex(extractInjuries).reduceByKey(lambda x, y: x + y)\n",
    "injuryRecords.take(20)"
   ]
  },
  {
   "cell_type": "markdown",
   "metadata": {},
   "source": [
    "# Death Totals by Year"
   ]
  },
  {
   "cell_type": "code",
   "execution_count": 120,
   "metadata": {
    "collapsed": false
   },
   "outputs": [
    {
     "data": {
      "text/plain": [
       "[('2017', 33),\n",
       " ('2016', 128),\n",
       " ('2013', 243),\n",
       " ('2015', 201),\n",
       " ('2012', 122),\n",
       " ('2014', 215)]"
      ]
     },
     "execution_count": 120,
     "metadata": {},
     "output_type": "execute_result"
    }
   ],
   "source": [
    "def extractDeaths(partitionId,partition):\n",
    "    if partitionId == 0:\n",
    "        partition.next()\n",
    "    import csv\n",
    "    reader = csv.reader(partition)\n",
    "    for row in reader:\n",
    "        if row[11]!= '0':\n",
    "            death_count = int(row[11])\n",
    "            year = row[0].split('/')[2]            \n",
    "            yield (year,death_count)\n",
    "\n",
    "deathRecords = collisions.mapPartitionsWithIndex(extractDeaths).reduceByKey(lambda x, y: x + y)\n",
    "deathRecords.take(20)"
   ]
  },
  {
   "cell_type": "markdown",
   "metadata": {},
   "source": [
    "# Contributing Factors"
   ]
  },
  {
   "cell_type": "code",
   "execution_count": 121,
   "metadata": {
    "collapsed": false
   },
   "outputs": [
    {
     "data": {
      "text/plain": [
       "[(('Accelerator Defective', '2012'), 45),\n",
       " (('Accelerator Defective', '2013'), 64),\n",
       " (('Accelerator Defective', '2014'), 77),\n",
       " (('Accelerator Defective', '2015'), 66),\n",
       " (('Accelerator Defective', '2016'), 65),\n",
       " (('Accelerator Defective', '2017'), 23),\n",
       " (('Aggressive Driving/Road Rage', '2012'), 304),\n",
       " (('Aggressive Driving/Road Rage', '2013'), 463),\n",
       " (('Aggressive Driving/Road Rage', '2014'), 505),\n",
       " (('Aggressive Driving/Road Rage', '2015'), 689),\n",
       " (('Aggressive Driving/Road Rage', '2016'), 383),\n",
       " (('Aggressive Driving/Road Rage', '2017'), 189),\n",
       " (('Alcohol Involvement', '2012'), 630),\n",
       " (('Alcohol Involvement', '2013'), 1273),\n",
       " (('Alcohol Involvement', '2014'), 1490),\n",
       " (('Alcohol Involvement', '2015'), 1530),\n",
       " (('Alcohol Involvement', '2016'), 1029),\n",
       " (('Alcohol Involvement', '2017'), 468),\n",
       " (('Animals Action', '2012'), 34),\n",
       " (('Animals Action', '2013'), 69),\n",
       " (('Animals Action', '2014'), 83),\n",
       " (('Animals Action', '2015'), 88),\n",
       " (('Animals Action', '2016'), 111),\n",
       " (('Animals Action', '2017'), 26),\n",
       " (('Backing Unsafely', '2012'), 1909),\n",
       " (('Backing Unsafely', '2013'), 3999),\n",
       " (('Backing Unsafely', '2014'), 5004),\n",
       " (('Backing Unsafely', '2015'), 5947),\n",
       " (('Backing Unsafely', '2016'), 4084),\n",
       " (('Backing Unsafely', '2017'), 2042),\n",
       " (('Brakes Defective', '2012'), 217),\n",
       " (('Brakes Defective', '2013'), 446),\n",
       " (('Brakes Defective', '2014'), 397),\n",
       " (('Brakes Defective', '2015'), 498),\n",
       " (('Brakes Defective', '2016'), 277),\n",
       " (('Brakes Defective', '2017'), 136),\n",
       " (('Cell Phone (hand-held)', '2012'), 6),\n",
       " (('Cell Phone (hand-held)', '2013'), 17),\n",
       " (('Cell Phone (hand-held)', '2014'), 13),\n",
       " (('Cell Phone (hand-held)', '2015'), 27),\n",
       " (('Cell Phone (hand-held)', '2016'), 18),\n",
       " (('Cell Phone (hand-held)', '2017'), 16),\n",
       " (('Cell Phone (hands-free)', '2012'), 19),\n",
       " (('Cell Phone (hands-free)', '2013'), 40),\n",
       " (('Cell Phone (hands-free)', '2014'), 38),\n",
       " (('Cell Phone (hands-free)', '2015'), 64),\n",
       " (('Cell Phone (hands-free)', '2016'), 12),\n",
       " (('Cell Phone (hands-free)', '2017'), 2),\n",
       " (('Driver Inattention/Distraction', '2012'), 8819),\n",
       " (('Driver Inattention/Distraction', '2013'), 18544),\n",
       " (('Driver Inattention/Distraction', '2014'), 20427),\n",
       " (('Driver Inattention/Distraction', '2015'), 26731),\n",
       " (('Driver Inattention/Distraction', '2016'), 20290),\n",
       " (('Driver Inattention/Distraction', '2017'), 9688),\n",
       " (('Driver Inexperience', '2012'), 1074),\n",
       " (('Driver Inexperience', '2013'), 2009),\n",
       " (('Driver Inexperience', '2014'), 2182),\n",
       " (('Driver Inexperience', '2015'), 2320),\n",
       " (('Driver Inexperience', '2016'), 1516),\n",
       " (('Driver Inexperience', '2017'), 785),\n",
       " (('Driverless/Runaway Vehicle', '2016'), 42),\n",
       " (('Driverless/Runaway Vehicle', '2017'), 76),\n",
       " (('Drugs (Illegal)', '2012'), 46),\n",
       " (('Drugs (Illegal)', '2013'), 80),\n",
       " (('Drugs (Illegal)', '2014'), 100),\n",
       " (('Drugs (Illegal)', '2015'), 114),\n",
       " (('Drugs (Illegal)', '2016'), 59),\n",
       " (('Drugs (Illegal)', '2017'), 25),\n",
       " (('Failure to Keep Right', '2012'), 154),\n",
       " (('Failure to Keep Right', '2013'), 303),\n",
       " (('Failure to Keep Right', '2014'), 369),\n",
       " (('Failure to Keep Right', '2015'), 448),\n",
       " (('Failure to Keep Right', '2016'), 196),\n",
       " (('Failure to Keep Right', '2017'), 84),\n",
       " (('Failure to Yield Right-of-Way', '2012'), 3414),\n",
       " (('Failure to Yield Right-of-Way', '2013'), 6952),\n",
       " (('Failure to Yield Right-of-Way', '2014'), 7791),\n",
       " (('Failure to Yield Right-of-Way', '2015'), 9062),\n",
       " (('Failure to Yield Right-of-Way', '2016'), 6168),\n",
       " (('Failure to Yield Right-of-Way', '2017'), 3010),\n",
       " (('Fatigued/Drowsy', '2012'), 3938),\n",
       " (('Fatigued/Drowsy', '2013'), 8143),\n",
       " (('Fatigued/Drowsy', '2014'), 9636),\n",
       " (('Fatigued/Drowsy', '2015'), 12296),\n",
       " (('Fatigued/Drowsy', '2016'), 4137),\n",
       " (('Fatigued/Drowsy', '2017'), 48),\n",
       " (('Fell Asleep', '2012'), 73),\n",
       " (('Fell Asleep', '2013'), 249),\n",
       " (('Fell Asleep', '2014'), 276),\n",
       " (('Fell Asleep', '2015'), 173),\n",
       " (('Fell Asleep', '2016'), 235),\n",
       " (('Fell Asleep', '2017'), 117),\n",
       " (('Following Too Closely', '2012'), 62),\n",
       " (('Following Too Closely', '2013'), 129),\n",
       " (('Following Too Closely', '2014'), 102),\n",
       " (('Following Too Closely', '2015'), 122),\n",
       " (('Following Too Closely', '2016'), 4174),\n",
       " (('Following Too Closely', '2017'), 3883),\n",
       " (('Glare', '2012'), 123),\n",
       " (('Glare', '2013'), 285),\n",
       " (('Glare', '2014'), 319),\n",
       " (('Glare', '2015'), 401),\n",
       " (('Glare', '2016'), 361),\n",
       " (('Glare', '2017'), 133),\n",
       " (('Headlights Defective', '2012'), 4),\n",
       " (('Headlights Defective', '2013'), 14),\n",
       " (('Headlights Defective', '2014'), 11),\n",
       " (('Headlights Defective', '2015'), 13),\n",
       " (('Headlights Defective', '2016'), 8),\n",
       " (('Headlights Defective', '2017'), 3),\n",
       " (('Illness', '2012'), 224),\n",
       " (('Illness', '2013'), 485),\n",
       " (('Illness', '2014'), 531),\n",
       " (('Illness', '2015'), 578),\n",
       " (('Illness', '2016'), 268),\n",
       " (('Illness', '2017'), 45),\n",
       " (('Lane Marking Improper/Inadequate', '2012'), 32),\n",
       " (('Lane Marking Improper/Inadequate', '2013'), 55),\n",
       " (('Lane Marking Improper/Inadequate', '2014'), 98),\n",
       " (('Lane Marking Improper/Inadequate', '2015'), 93),\n",
       " (('Lane Marking Improper/Inadequate', '2016'), 51),\n",
       " (('Lane Marking Improper/Inadequate', '2017'), 10),\n",
       " (('Lost Consciousness', '2012'), 1850),\n",
       " (('Lost Consciousness', '2013'), 3488),\n",
       " (('Lost Consciousness', '2014'), 4252),\n",
       " (('Lost Consciousness', '2015'), 5316),\n",
       " (('Lost Consciousness', '2016'), 2007),\n",
       " (('Lost Consciousness', '2017'), 39),\n",
       " (('Obstruction/Debris', '2012'), 215),\n",
       " (('Obstruction/Debris', '2013'), 268),\n",
       " (('Obstruction/Debris', '2014'), 308),\n",
       " (('Obstruction/Debris', '2015'), 344),\n",
       " (('Obstruction/Debris', '2016'), 235),\n",
       " (('Obstruction/Debris', '2017'), 107),\n",
       " (('Other Electronic Device', '2012'), 198),\n",
       " (('Other Electronic Device', '2013'), 406),\n",
       " (('Other Electronic Device', '2014'), 480),\n",
       " (('Other Electronic Device', '2015'), 628),\n",
       " (('Other Electronic Device', '2016'), 179),\n",
       " (('Other Electronic Device', '2017'), 8),\n",
       " (('Other Lighting Defects', '2012'), 2),\n",
       " (('Other Lighting Defects', '2013'), 11),\n",
       " (('Other Lighting Defects', '2014'), 13),\n",
       " (('Other Lighting Defects', '2015'), 15),\n",
       " (('Other Lighting Defects', '2016'), 13),\n",
       " (('Other Lighting Defects', '2017'), 3),\n",
       " (('Other Vehicular', '2012'), 2157),\n",
       " (('Other Vehicular', '2013'), 4428),\n",
       " (('Other Vehicular', '2014'), 6080),\n",
       " (('Other Vehicular', '2015'), 9096),\n",
       " (('Other Vehicular', '2016'), 3239),\n",
       " (('Other Vehicular', '2017'), 1051),\n",
       " (('Outside Car Distraction', '2012'), 1091),\n",
       " (('Outside Car Distraction', '2013'), 2071),\n",
       " (('Outside Car Distraction', '2014'), 2074),\n",
       " (('Outside Car Distraction', '2015'), 2291),\n",
       " (('Outside Car Distraction', '2016'), 788),\n",
       " (('Outside Car Distraction', '2017'), 93),\n",
       " (('Oversized Vehicle', '2012'), 486),\n",
       " (('Oversized Vehicle', '2013'), 906),\n",
       " (('Oversized Vehicle', '2014'), 1065),\n",
       " (('Oversized Vehicle', '2015'), 1341),\n",
       " (('Oversized Vehicle', '2016'), 708),\n",
       " (('Oversized Vehicle', '2017'), 309),\n",
       " (('Passenger Distraction', '2012'), 441),\n",
       " (('Passenger Distraction', '2013'), 909),\n",
       " (('Passenger Distraction', '2014'), 963),\n",
       " (('Passenger Distraction', '2015'), 1056),\n",
       " (('Passenger Distraction', '2016'), 484),\n",
       " (('Passenger Distraction', '2017'), 159),\n",
       " (('Passing or Lane Usage Improper', '2012'), 31),\n",
       " (('Passing or Lane Usage Improper', '2013'), 52),\n",
       " (('Passing or Lane Usage Improper', '2014'), 98),\n",
       " (('Passing or Lane Usage Improper', '2015'), 58),\n",
       " (('Passing or Lane Usage Improper', '2016'), 1796),\n",
       " (('Passing or Lane Usage Improper', '2017'), 1897),\n",
       " (('Pavement Defective', '2012'), 73),\n",
       " (('Pavement Defective', '2013'), 177),\n",
       " (('Pavement Defective', '2014'), 209),\n",
       " (('Pavement Defective', '2015'), 235),\n",
       " (('Pavement Defective', '2016'), 127),\n",
       " (('Pavement Defective', '2017'), 32),\n",
       " (('Pavement Slippery', '2012'), 583),\n",
       " (('Pavement Slippery', '2013'), 1405),\n",
       " (('Pavement Slippery', '2014'), 2025),\n",
       " (('Pavement Slippery', '2015'), 2298),\n",
       " (('Pavement Slippery', '2016'), 1134),\n",
       " (('Pavement Slippery', '2017'), 995),\n",
       " (('Pedestrian/Bicyclist/Other Pedestrian Error/Confusion', '2012'), 12),\n",
       " (('Pedestrian/Bicyclist/Other Pedestrian Error/Confusion', '2013'), 23),\n",
       " (('Pedestrian/Bicyclist/Other Pedestrian Error/Confusion', '2014'), 23),\n",
       " (('Pedestrian/Bicyclist/Other Pedestrian Error/Confusion', '2015'), 26),\n",
       " (('Pedestrian/Bicyclist/Other Pedestrian Error/Confusion', '2016'), 283),\n",
       " (('Pedestrian/Bicyclist/Other Pedestrian Error/Confusion', '2017'), 232),\n",
       " (('Physical Disability', '2012'), 1022),\n",
       " (('Physical Disability', '2013'), 1924),\n",
       " (('Physical Disability', '2014'), 1958),\n",
       " (('Physical Disability', '2015'), 2210),\n",
       " (('Physical Disability', '2016'), 786),\n",
       " (('Physical Disability', '2017'), 20),\n",
       " (('Prescription Medication', '2012'), 1562),\n",
       " (('Prescription Medication', '2013'), 3194),\n",
       " (('Prescription Medication', '2014'), 3462),\n",
       " (('Prescription Medication', '2015'), 3892),\n",
       " (('Prescription Medication', '2016'), 1306),\n",
       " (('Prescription Medication', '2017'), 6),\n",
       " (('Reaction to Other Uninvolved Vehicle', '2012'), 180),\n",
       " (('Reaction to Other Uninvolved Vehicle', '2013'), 253),\n",
       " (('Reaction to Other Uninvolved Vehicle', '2014'), 327),\n",
       " (('Reaction to Other Uninvolved Vehicle', '2015'), 318),\n",
       " (('Reaction to Other Uninvolved Vehicle', '2016'), 795),\n",
       " (('Reaction to Other Uninvolved Vehicle', '2017'), 669),\n",
       " (('Shoulders Defective/Improper', '2012'), 6),\n",
       " (('Shoulders Defective/Improper', '2013'), 8),\n",
       " (('Shoulders Defective/Improper', '2014'), 7),\n",
       " (('Shoulders Defective/Improper', '2015'), 6),\n",
       " (('Shoulders Defective/Improper', '2016'), 8),\n",
       " (('Shoulders Defective/Improper', '2017'), 1),\n",
       " (('Steering Failure', '2012'), 60),\n",
       " (('Steering Failure', '2013'), 138),\n",
       " (('Steering Failure', '2014'), 162),\n",
       " (('Steering Failure', '2015'), 209),\n",
       " (('Steering Failure', '2016'), 100),\n",
       " (('Steering Failure', '2017'), 50),\n",
       " (('Tire Failure/Inadequate', '2012'), 84),\n",
       " (('Tire Failure/Inadequate', '2013'), 128),\n",
       " (('Tire Failure/Inadequate', '2014'), 152),\n",
       " (('Tire Failure/Inadequate', '2015'), 159),\n",
       " (('Tire Failure/Inadequate', '2016'), 127),\n",
       " (('Tire Failure/Inadequate', '2017'), 39),\n",
       " (('Tow Hitch Defective', '2012'), 14),\n",
       " (('Tow Hitch Defective', '2013'), 23),\n",
       " (('Tow Hitch Defective', '2014'), 9),\n",
       " (('Tow Hitch Defective', '2015'), 18),\n",
       " (('Tow Hitch Defective', '2016'), 10),\n",
       " (('Tow Hitch Defective', '2017'), 1),\n",
       " (('Traffic Control Device Improper/Non-Working', '2012'), 84),\n",
       " (('Traffic Control Device Improper/Non-Working', '2013'), 63),\n",
       " (('Traffic Control Device Improper/Non-Working', '2014'), 60),\n",
       " (('Traffic Control Device Improper/Non-Working', '2015'), 63),\n",
       " (('Traffic Control Device Improper/Non-Working', '2016'), 54),\n",
       " (('Traffic Control Device Improper/Non-Working', '2017'), 12),\n",
       " (('Traffic Control Disregarded', '2012'), 895),\n",
       " (('Traffic Control Disregarded', '2013'), 2017),\n",
       " (('Traffic Control Disregarded', '2014'), 2184),\n",
       " (('Traffic Control Disregarded', '2015'), 2591),\n",
       " (('Traffic Control Disregarded', '2016'), 1530),\n",
       " (('Traffic Control Disregarded', '2017'), 778),\n",
       " (('Turning Improperly', '2012'), 1714),\n",
       " (('Turning Improperly', '2013'), 3779),\n",
       " (('Turning Improperly', '2014'), 4315),\n",
       " (('Turning Improperly', '2015'), 5298),\n",
       " (('Turning Improperly', '2016'), 2669),\n",
       " (('Turning Improperly', '2017'), 1067),\n",
       " (('Unsafe Lane Changing', '2012'), 28),\n",
       " (('Unsafe Lane Changing', '2013'), 47),\n",
       " (('Unsafe Lane Changing', '2014'), 59),\n",
       " (('Unsafe Lane Changing', '2015'), 82),\n",
       " (('Unsafe Lane Changing', '2016'), 1638),\n",
       " (('Unsafe Lane Changing', '2017'), 1480),\n",
       " (('Unsafe Speed', '2012'), 78),\n",
       " (('Unsafe Speed', '2013'), 153),\n",
       " (('Unsafe Speed', '2014'), 189),\n",
       " (('Unsafe Speed', '2015'), 224),\n",
       " (('Unsafe Speed', '2016'), 813),\n",
       " (('Unsafe Speed', '2017'), 654),\n",
       " (('View Obstructed/Limited', '2012'), 318),\n",
       " (('View Obstructed/Limited', '2013'), 620),\n",
       " (('View Obstructed/Limited', '2014'), 660),\n",
       " (('View Obstructed/Limited', '2015'), 734),\n",
       " (('View Obstructed/Limited', '2016'), 584),\n",
       " (('View Obstructed/Limited', '2017'), 276),\n",
       " (('Windshield Inadequate', '2012'), 5),\n",
       " (('Windshield Inadequate', '2013'), 3),\n",
       " (('Windshield Inadequate', '2014'), 17),\n",
       " (('Windshield Inadequate', '2015'), 11),\n",
       " (('Windshield Inadequate', '2016'), 6),\n",
       " (('Windshield Inadequate', '2017'), 2)]"
      ]
     },
     "execution_count": 121,
     "metadata": {},
     "output_type": "execute_result"
    }
   ],
   "source": [
    "def accidentFactors(partitionId,partition):\n",
    "    if partitionId == 0:\n",
    "        partition.next()\n",
    "    import csv\n",
    "    reader = csv.reader(partition)\n",
    "    for row in reader:\n",
    "        if row[18]!= 'Unspecified' and row[18] != '':\n",
    "            cause = row[18]\n",
    "            year = row[0].split('/')[2]            \n",
    "            yield ((cause,year),1)\n",
    "\n",
    "accidentFactors = collisions.mapPartitionsWithIndex(accidentFactors).reduceByKey(lambda x,y: x+y) #.max(lambda x:x[1])\n",
    "sorted(accidentFactors.collect())"
   ]
  },
  {
   "cell_type": "markdown",
   "metadata": {
    "collapsed": true
   },
   "source": [
    "# Accidents Involving Cyclists"
   ]
  },
  {
   "cell_type": "code",
   "execution_count": 8,
   "metadata": {
    "collapsed": false,
    "scrolled": true
   },
   "outputs": [],
   "source": [
    "def extractCyclists(partitionId,partition):\n",
    "    if partitionId == 0:\n",
    "        partition.next()\n",
    "    import csv\n",
    "    reader = csv.reader(partition)\n",
    "    for row in reader:\n",
    "        if row[14]!= '' and row[14] != '0':\n",
    "#             location = row[6]\n",
    "            lat = row[6].split(',')[0][1:9] + '' , '' + row[6].split(',')[1][0:9]\n",
    "#             lng = row[6].split(',')[1][0:9]\n",
    "            injured = int(row[14]) + int(row[15])    # includes injury and death         \n",
    "            yield (lat),injured\n",
    "\n",
    "# cyclistAccidents = collisions.mapPartitionsWithIndex(extractCyclists).reduceByKey(lambda x,y: x+y) #.max(lambda x:x[1])\n",
    "# cyclistAccidents.collect()"
   ]
  },
  {
   "cell_type": "markdown",
   "metadata": {},
   "source": [
    "# Taxi Trips by Location"
   ]
  },
  {
   "cell_type": "code",
   "execution_count": 131,
   "metadata": {
    "collapsed": false
   },
   "outputs": [
    {
     "data": {
      "text/plain": [
       "[(0, 'pickup_datetime'),\n",
       " (1, 'pickup_latitude'),\n",
       " (2, 'pickup_longitude'),\n",
       " (3, 'trip_distance'),\n",
       " (4, 'passenger_count'),\n",
       " (5, 'dropoff_datetime'),\n",
       " (6, 'dropoff_latitude'),\n",
       " (7, 'dropoff_longitude'),\n",
       " (8, 'fare_amount'),\n",
       " (9, 'tolls_amount'),\n",
       " (10, 'taxes_amount'),\n",
       " (11, 'tip_amount'),\n",
       " (12, 'payment_amount'),\n",
       " (13, 'payment_type')]"
      ]
     },
     "execution_count": 131,
     "metadata": {},
     "output_type": "execute_result"
    }
   ],
   "source": [
    "list(enumerate(january.first().split(',')))"
   ]
  },
  {
   "cell_type": "code",
   "execution_count": 197,
   "metadata": {
    "collapsed": false
   },
   "outputs": [
    {
     "data": {
      "text/plain": [
       "10482803"
      ]
     },
     "execution_count": 197,
     "metadata": {},
     "output_type": "execute_result"
    }
   ],
   "source": [
    "taxiTrips.count()"
   ]
  },
  {
   "cell_type": "markdown",
   "metadata": {},
   "source": [
    "### Location, (taxi trips, injuries)"
   ]
  },
  {
   "cell_type": "code",
   "execution_count": 180,
   "metadata": {
    "collapsed": false
   },
   "outputs": [
    {
     "data": {
      "text/plain": [
       "[(('40.70309', '-73.98664'), (1, 1)),\n",
       " (('40.70562', '-74.00676'), (1, 1)),\n",
       " (('40.71653', '-74.00667'), (4, 1)),\n",
       " (('40.71885', '-74.00484'), (1, 2)),\n",
       " (('40.72746', '-73.97947'), (10, 3)),\n",
       " (('40.73026', '-73.95347'), (1, 1)),\n",
       " (('40.73109', '-73.98278'), (5, 2)),\n",
       " (('40.74706', '-73.97923'), (8, 2)),\n",
       " (('40.74843', '-73.99619'), (2, 2)),\n",
       " (('40.75587', '-73.97282'), (10, 2)),\n",
       " (('40.75714', '-73.99356'), (4, 3)),\n",
       " (('40.75736', '-73.98409'), (3, 1)),\n",
       " (('40.75957', '-73.96802'), (3, 3)),\n",
       " (('40.75973', '-73.99168'), (4, 5)),\n",
       " (('40.76649', '-73.95695'), (9, 2)),\n",
       " (('40.76689', '-73.92139'), (1, 4)),\n",
       " (('40.77169', '-73.95918'), (7, 1)),\n",
       " (('40.78423', '-73.94706'), (2, 3)),\n",
       " (('40.79099', '-73.96517'), (1, 2)),\n",
       " (('40.79545', '-73.96562'), (2, 5))]"
      ]
     },
     "execution_count": 180,
     "metadata": {},
     "output_type": "execute_result"
    }
   ],
   "source": [
    "sorted(taxiTrips.join(cyclistAccidents).take(20))"
   ]
  },
  {
   "cell_type": "markdown",
   "metadata": {},
   "source": [
    "### Location, (injuries, taxitrips)"
   ]
  },
  {
   "cell_type": "code",
   "execution_count": 181,
   "metadata": {
    "collapsed": false
   },
   "outputs": [
    {
     "data": {
      "text/plain": [
       "[(('40.70309', '-73.98664'), (1, 1)),\n",
       " (('40.70562', '-74.00676'), (1, 1)),\n",
       " (('40.71653', '-74.00667'), (1, 4)),\n",
       " (('40.71885', '-74.00484'), (2, 1)),\n",
       " (('40.72746', '-73.97947'), (3, 10)),\n",
       " (('40.73026', '-73.95347'), (1, 1)),\n",
       " (('40.73109', '-73.98278'), (2, 5)),\n",
       " (('40.74152', '-73.99379'), (1, 9)),\n",
       " (('40.74706', '-73.97923'), (2, 8)),\n",
       " (('40.74843', '-73.99619'), (2, 2)),\n",
       " (('40.75714', '-73.99356'), (3, 4)),\n",
       " (('40.75736', '-73.98409'), (1, 3)),\n",
       " (('40.75957', '-73.96802'), (3, 3)),\n",
       " (('40.75973', '-73.99168'), (5, 4)),\n",
       " (('40.76274', '-73.99691'), (2, 1)),\n",
       " (('40.76649', '-73.95695'), (2, 9)),\n",
       " (('40.76689', '-73.92139'), (4, 1)),\n",
       " (('40.77169', '-73.95918'), (1, 7)),\n",
       " (('40.78423', '-73.94706'), (3, 2)),\n",
       " (('40.79545', '-73.96562'), (5, 2))]"
      ]
     },
     "execution_count": 181,
     "metadata": {},
     "output_type": "execute_result"
    }
   ],
   "source": [
    "sorted(cyclistAccidents.join(taxiTrips).take(20))"
   ]
  },
  {
   "cell_type": "code",
   "execution_count": 182,
   "metadata": {
    "collapsed": false
   },
   "outputs": [
    {
     "data": {
      "text/plain": [
       "1306"
      ]
     },
     "execution_count": 182,
     "metadata": {},
     "output_type": "execute_result"
    }
   ],
   "source": [
    "cyclistAccidents.join(taxiTrips).count()"
   ]
  },
  {
   "cell_type": "markdown",
   "metadata": {},
   "source": [
    "### The following is hardly statistically significant or accurate as we're only dividing the number of cyclists injured by the number of cabs at that intersection in one month"
   ]
  },
  {
   "cell_type": "code",
   "execution_count": 201,
   "metadata": {
    "collapsed": false
   },
   "outputs": [
    {
     "data": {
      "text/plain": [
       "[(('40.70309', '-73.98664'), 1.0),\n",
       " (('40.70562', '-74.00676'), 1.0),\n",
       " (('40.71653', '-74.00667'), 0.25),\n",
       " (('40.71885', '-74.00484'), 2.0),\n",
       " (('40.72746', '-73.97947'), 0.3),\n",
       " (('40.73026', '-73.95347'), 1.0),\n",
       " (('40.73109', '-73.98278'), 0.4),\n",
       " (('40.74706', '-73.97923'), 0.25),\n",
       " (('40.74843', '-73.99619'), 1.0),\n",
       " (('40.75587', '-73.97282'), 0.2),\n",
       " (('40.75714', '-73.99356'), 0.75),\n",
       " (('40.75736', '-73.98409'), 0.3333333333333333),\n",
       " (('40.75957', '-73.96802'), 1.0),\n",
       " (('40.75973', '-73.99168'), 1.25),\n",
       " (('40.76649', '-73.95695'), 0.2222222222222222),\n",
       " (('40.76689', '-73.92139'), 4.0),\n",
       " (('40.77169', '-73.95918'), 0.14285714285714285),\n",
       " (('40.78423', '-73.94706'), 1.5),\n",
       " (('40.79099', '-73.96517'), 2.0),\n",
       " (('40.79545', '-73.96562'), 2.5)]"
      ]
     },
     "execution_count": 201,
     "metadata": {},
     "output_type": "execute_result"
    }
   ],
   "source": [
    "sorted(taxiTrips.join(cyclistAccidents).mapValues(lambda x: float(x[1])/float(x[0])).take(20))\n",
    "#.mapValues(lambda x: x[0]/x[1])"
   ]
  },
  {
   "cell_type": "code",
   "execution_count": 361,
   "metadata": {
    "collapsed": true
   },
   "outputs": [],
   "source": [
    "bike_taxi = taxiTrips.join(cyclistAccidents) #.collect() #.mapValues(lambda x: float(x[1])/float(x[0]))"
   ]
  },
  {
   "cell_type": "code",
   "execution_count": 206,
   "metadata": {
    "collapsed": false
   },
   "outputs": [],
   "source": [
    "with open('bike_taxi.csv', 'wb') as myfile:\n",
    "    wr = csv.writer(myfile, quoting=csv.QUOTE_ALL)\n",
    "    for i in range (0,len(bike_taxi)):\n",
    "        wr.writerow(bike_taxi[i])"
   ]
  },
  {
   "cell_type": "code",
   "execution_count": 209,
   "metadata": {
    "collapsed": true
   },
   "outputs": [],
   "source": [
    "allmonths = ('data/bike_taxi_full.csv')\n",
    "allmonths = sc.textFile(allmonths,use_unicode=False).cache()"
   ]
  },
  {
   "cell_type": "code",
   "execution_count": 211,
   "metadata": {
    "collapsed": false
   },
   "outputs": [
    {
     "data": {
      "text/plain": [
       "[(0, '\"LATITUDE AND LONGITUDE\"'), (1, '\"TAXITRIP WITH ACCIDENTS\"')]"
      ]
     },
     "execution_count": 211,
     "metadata": {},
     "output_type": "execute_result"
    }
   ],
   "source": [
    "list(enumerate(allmonths.first().split(',')))"
   ]
  },
  {
   "cell_type": "code",
   "execution_count": 352,
   "metadata": {
    "collapsed": false,
    "scrolled": false
   },
   "outputs": [
    {
     "data": {
      "text/plain": [
       "[(('40.69339 , -73.92511', 1), 1),\n",
       " (('40.73643 , -74.00663', 2), 9),\n",
       " (('40.75827 , -73.93335', 1), 5),\n",
       " (('40.72364 , -73.98528', 5), 26),\n",
       " (('40.68417 , -73.99219', 1), 5),\n",
       " (('40.80202 , -73.94968', 5), 4),\n",
       " (('40.75303 , -73.94061', 1), 2),\n",
       " (('40.72957 , -73.99326', 2), 15),\n",
       " (('40.77207 , -73.94993', 2), 18),\n",
       " (('40.73101 , -73.98591', 7), 10)]"
      ]
     },
     "execution_count": 352,
     "metadata": {},
     "output_type": "execute_result"
    }
   ],
   "source": [
    "def extractAll(partitionId,partition):\n",
    "    if partitionId == 0:\n",
    "        partition.next()\n",
    "    import csv\n",
    "    reader = csv.reader(partition)\n",
    "    for row in reader:\n",
    "        if row[1][1] and row[1][4] != ' ':\n",
    "            location = row[0].split(\"'\")[1] +\" , \"+ row[0].split(\"'\")[3]\n",
    "            taxi_count = int(row[1][1])\n",
    "            bike_injury = int(row[1][4])\n",
    "            yield ((location, bike_injury), taxi_count)\n",
    "\n",
    "allRecords = allmonths.mapPartitionsWithIndex(extractAll).reduceByKey(lambda x,y: x+y)\n",
    "allRecords.take(10)\n",
    "# allRecords.mapValues(lambda x: x*100).collect()\n",
    "#mylist[1200:]"
   ]
  },
  {
   "cell_type": "code",
   "execution_count": 358,
   "metadata": {
    "collapsed": false
   },
   "outputs": [],
   "source": [
    "february = 'data/2february.csv'\n",
    "february = sc.textFile(february,use_unicode=False).cache()"
   ]
  },
  {
   "cell_type": "code",
   "execution_count": 359,
   "metadata": {
    "collapsed": false
   },
   "outputs": [
    {
     "data": {
      "text/plain": [
       "[(0, 'pickup_datetime'),\n",
       " (1, 'pickup_latitude'),\n",
       " (2, 'pickup_longitude'),\n",
       " (3, 'trip_distance'),\n",
       " (4, 'passenger_count'),\n",
       " (5, 'dropoff_datetime'),\n",
       " (6, 'dropoff_latitude'),\n",
       " (7, 'dropoff_longitude'),\n",
       " (8, 'fare_amount'),\n",
       " (9, 'tolls_amount'),\n",
       " (10, 'taxes_amount'),\n",
       " (11, 'tip_amount'),\n",
       " (12, 'payment_amount'),\n",
       " (13, 'payment_type')]"
      ]
     },
     "execution_count": 359,
     "metadata": {},
     "output_type": "execute_result"
    }
   ],
   "source": [
    "list(enumerate(february_taxi.first().split(',')))"
   ]
  },
  {
   "cell_type": "code",
   "execution_count": 431,
   "metadata": {
    "collapsed": false
   },
   "outputs": [],
   "source": [
    "# def extractTrips(partitionId,partition):\n",
    "#     if partitionId == 0:\n",
    "#         partition.next()\n",
    "#     import csv\n",
    "#     reader = csv.reader(partition)\n",
    "#     for row in reader:\n",
    "# #         if row[1] and row[2] !='0.0' and row[6] and row [7] != '0.0':\n",
    "#         pickup = row[1],row[2]\n",
    "#         dropoff = row[6],row[7]       \n",
    "#         yield (pickup,1)\n",
    "#         yield (dropoff,1)\n",
    "\n",
    "# taxiTrips = january.mapPartitionsWithIndex(extractTrips) #.reduceByKey(lambda x,y: x+y) #.max(lambda x:x[1])\n",
    "# taxiTrips.take(20)\n"
   ]
  },
  {
   "cell_type": "code",
   "execution_count": 4,
   "metadata": {
    "collapsed": false
   },
   "outputs": [],
   "source": [
    "def extractTrips(partitionId,partition):\n",
    "    if partitionId == 0:\n",
    "        partition.next()\n",
    "    import csv\n",
    "    reader = csv.reader(partition)\n",
    "    for row in reader:\n",
    "        if row[1] and row[2] !='0' and row[6] and row [7] != '0':\n",
    "            pickup = row[1],row[2]\n",
    "            dropoff = row[6],row[7]       \n",
    "            yield (pickup,1)\n",
    "            yield (dropoff,1)\n",
    "\n",
    "# febTrips = february.mapPartitionsWithIndex(extractTrips) #.reduceByKey(lambda x,y: x+y) #.max(lambda x:x[1])\n",
    "# febTrips.take(20)"
   ]
  },
  {
   "cell_type": "code",
   "execution_count": 406,
   "metadata": {
    "collapsed": false
   },
   "outputs": [],
   "source": [
    "#jan_feb = febTrips.join(taxiTrips).reduceByKey(lambda x,y: x+y).mapValues(lambda x: x[0]+x[1])"
   ]
  },
  {
   "cell_type": "code",
   "execution_count": 5,
   "metadata": {
    "collapsed": false
   },
   "outputs": [],
   "source": [
    "janTrips = 'data/1january.csv'\n",
    "febTrips = 'data/2february.csv'\n",
    "marchTrips = 'data/3march.csv'\n",
    "aprilTrips = 'data/4april.csv'\n",
    "mayTrips = 'data/5may.csv'\n",
    "juneTrips = 'data/6june.csv'\n",
    "\n",
    "janTrips = sc.textFile(janTrips,use_unicode=False).cache()\n",
    "febTrips = sc.textFile(febTrips,use_unicode=False).cache()\n",
    "marchTrips = sc.textFile(marchTrips,use_unicode=False).cache()\n",
    "aprilTrips = sc.textFile(aprilTrips,use_unicode=False).cache()\n",
    "mayTrips = sc.textFile(mayTrips,use_unicode=False).cache()\n",
    "juneTrips = sc.textFile(juneTrips,use_unicode=False).cache()"
   ]
  },
  {
   "cell_type": "code",
   "execution_count": 6,
   "metadata": {
    "collapsed": false
   },
   "outputs": [],
   "source": [
    "janTrips = janTrips.mapPartitionsWithIndex(extractTrips).reduceByKey(lambda x,y: x+y)\n",
    "febTrips = febTrips.mapPartitionsWithIndex(extractTrips).reduceByKey(lambda x,y: x+y)\n",
    "marchTrips = marchTrips.mapPartitionsWithIndex(extractTrips).reduceByKey(lambda x,y: x+y)\n",
    "aprilTrips = aprilTrips.mapPartitionsWithIndex(extractTrips).reduceByKey(lambda x,y: x+y)\n",
    "\n",
    "#mayTrips = mayTrips.mapPartitionsWithIndex(extractTrips)\n",
    "#juneTrips = juneTrips.mapPartitionsWithIndex(extractTrips)\n",
    "\n",
    "\n",
    "jan_feb = febTrips.join(janTrips).mapValues(lambda x: x[0]+x[1])\n",
    "jan_march = marchTrips.join(jan_feb).mapValues(lambda x: x[0]+x[1])\n",
    "jan_april = aprilTrips.join(jan_march).mapValues(lambda x: x[0]+x[1])\n",
    "\n",
    "# jan_may = mayTrips.join(jan_april).reduceByKey(lambda x,y: x+y).mapValues(lambda x: x[0]+x[1])\n",
    "# jan_june = juneTrips.join(jan_may).reduceByKey(lambda x,y: x+y).mapValues(lambda x: x[0]+x[1])\n"
   ]
  },
  {
   "cell_type": "code",
   "execution_count": 7,
   "metadata": {
    "collapsed": false
   },
   "outputs": [
    {
     "data": {
      "text/plain": [
       "[(('40.74107', '-73.98238'), 5),\n",
       " (('40.77922', '-73.95586'), 15),\n",
       " (('40.7293', '-74.00239'), 10),\n",
       " (('40.75181', '-73.9752'), 12),\n",
       " (('40.64357', '-73.7902'), 26),\n",
       " (('40.75703', '-73.97422'), 17),\n",
       " (('40.7618', '-73.97105'), 15),\n",
       " (('40.77516', '-73.96098'), 18),\n",
       " (('40.73699', '-73.98846'), 9),\n",
       " (('40.7648', '-73.96834'), 12),\n",
       " (('40.76765', '-73.95611'), 12),\n",
       " (('40.7448', '-73.98476'), 4),\n",
       " (('40.71957', '-73.99038'), 12),\n",
       " (('40.75309', '-73.97981'), 5),\n",
       " (('40.73983', '-74.00623'), 18)]"
      ]
     },
     "execution_count": 7,
     "metadata": {},
     "output_type": "execute_result"
    }
   ],
   "source": [
    "jan_april.take(15)"
   ]
  },
  {
   "cell_type": "code",
   "execution_count": 15,
   "metadata": {
    "collapsed": false
   },
   "outputs": [
    {
     "data": {
      "text/plain": [
       "970"
      ]
     },
     "execution_count": 15,
     "metadata": {},
     "output_type": "execute_result"
    }
   ],
   "source": [
    "cyclistAccidents = collisions.mapPartitionsWithIndex(extractCyclists).reduceByKey(lambda x,y: x+y)\n",
    "jan_feb.join(cyclistAccidents).count()"
   ]
  },
  {
   "cell_type": "code",
   "execution_count": 416,
   "metadata": {
    "collapsed": false
   },
   "outputs": [
    {
     "data": {
      "text/plain": [
       "[(('40.75041', '-73.98632'), 2),\n",
       " (('40.77246', '-73.94674'), 4),\n",
       " (('40.76126', '-73.81888'), 1),\n",
       " (('40.80658', '-73.91396'), 1),\n",
       " (('40.73625', '-74.00101'), 1),\n",
       " (('40.75901', '-73.99017'), 3),\n",
       " (('40.70985', '-74.01522'), 3),\n",
       " (('40.71459', '-74.00237'), 2),\n",
       " (('40.77659', '-73.98288'), 1),\n",
       " (('40.75967', '-73.98653'), 1),\n",
       " (('40.78306', '-73.97391'), 2),\n",
       " (('40.76025', '-73.98076'), 1),\n",
       " (('40.7531', '-73.97783'), 3),\n",
       " (('40.76011', '-73.96691'), 1),\n",
       " (('40.7339', '-73.99102'), 4)]"
      ]
     },
     "execution_count": 416,
     "metadata": {},
     "output_type": "execute_result"
    }
   ],
   "source": [
    "janTrips.take(15)"
   ]
  },
  {
   "cell_type": "code",
   "execution_count": 417,
   "metadata": {
    "collapsed": false
   },
   "outputs": [
    {
     "data": {
      "text/plain": [
       "[(('40.80687', '-73.96497'), 3),\n",
       " (('40.76021', '-73.97854'), 1),\n",
       " (('40.8142', '-73.91927'), 1),\n",
       " (('40.75415', '-73.98847'), 3),\n",
       " (('40.75283', '-73.96607'), 1),\n",
       " (('40.75026', '-73.9694'), 1),\n",
       " (('40.78316', '-73.95266'), 1),\n",
       " (('40.75793', '-73.97179'), 1),\n",
       " (('40.7782', '-73.96241'), 1),\n",
       " (('40.76013', '-73.99418'), 1),\n",
       " (('40.71463', '-73.98412'), 1),\n",
       " (('40.7282', '-74.00306'), 1),\n",
       " (('40.77359', '-73.9643'), 1),\n",
       " (('40.66908', '-73.97983'), 1),\n",
       " (('40.77972', '-73.98724'), 1)]"
      ]
     },
     "execution_count": 417,
     "metadata": {},
     "output_type": "execute_result"
    }
   ],
   "source": [
    "febTrips.take(15)"
   ]
  },
  {
   "cell_type": "code",
   "execution_count": 435,
   "metadata": {
    "collapsed": false
   },
   "outputs": [
    {
     "data": {
      "text/plain": [
       "[(('40.76721', '-73.96888'), 1),\n",
       " (('40.76057', '-73.96712'), 1),\n",
       " (('40.73565', '-73.81066'), 1),\n",
       " (('40.71591', '-74.00173'), 1),\n",
       " (('40.78343', '-73.9811'), 1),\n",
       " (('40.74739', '-74.00324'), 4),\n",
       " (('40.71983', '-73.98714'), 1),\n",
       " (('40.64143', '-73.78872'), 1),\n",
       " (('40.76335', '-73.98169'), 3),\n",
       " (('40.75405', '-73.96922'), 2)]"
      ]
     },
     "execution_count": 435,
     "metadata": {},
     "output_type": "execute_result"
    }
   ],
   "source": [
    "aprilTrips = aprilTrips.mapPartitionsWithIndex(extractTrips).reduceByKey(lambda x,y: x+y)\n",
    "aprilTrips.take(10)"
   ]
  },
  {
   "cell_type": "code",
   "execution_count": 8,
   "metadata": {
    "collapsed": false
   },
   "outputs": [
    {
     "data": {
      "text/plain": [
       "[(('40.71627', '-74.00244'), 2),\n",
       " (('40.72332', '-73.97634'), 1),\n",
       " (('40.67677', '-73.95533'), 1),\n",
       " (('40.81625', '-73.95422'), 1),\n",
       " (('40.73598', '-73.98254'), 1),\n",
       " (('40.73669', '-73.99726'), 5),\n",
       " (('40.70985', '-74.01522'), 1),\n",
       " (('40.73965', '-73.98885'), 1),\n",
       " (('40.74844', '-73.98242'), 1),\n",
       " (('40.77381', '-73.873'), 1)]"
      ]
     },
     "execution_count": 8,
     "metadata": {},
     "output_type": "execute_result"
    }
   ],
   "source": [
    "marchTrips = marchTrips.mapPartitionsWithIndex(extractTrips).reduceByKey(lambda x,y: x+y)\n",
    "marchTrips.take(10)"
   ]
  },
  {
   "cell_type": "code",
   "execution_count": null,
   "metadata": {
    "collapsed": true
   },
   "outputs": [],
   "source": []
  }
 ],
 "metadata": {
  "kernelspec": {
   "display_name": "Python Kernel",
   "language": "python",
   "name": "python2"
  },
  "language_info": {
   "codemirror_mode": {
    "name": "ipython",
    "version": 2
   },
   "file_extension": ".py",
   "mimetype": "text/x-python",
   "name": "python",
   "nbconvert_exporter": "python",
   "pygments_lexer": "ipython2",
   "version": "2.7.13"
  }
 },
 "nbformat": 4,
 "nbformat_minor": 2
}
