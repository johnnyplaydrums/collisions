{
 "cells": [
  {
   "cell_type": "code",
   "execution_count": 1,
   "metadata": {
    "collapsed": false
   },
   "outputs": [
    {
     "data": {
      "text/plain": [
       "<pyspark.context.SparkContext at 0x10e0dd510>"
      ]
     },
     "execution_count": 1,
     "metadata": {},
     "output_type": "execute_result"
    }
   ],
   "source": [
    "sc"
   ]
  },
  {
   "cell_type": "code",
   "execution_count": 2,
   "metadata": {
    "collapsed": true
   },
   "outputs": [],
   "source": [
    "import geopandas as gpd\n",
    "import pyproj\n",
    "import shapely.geometry as geom\n",
    "import csv\n",
    "import datetime"
   ]
  },
  {
   "cell_type": "code",
   "execution_count": 24,
   "metadata": {
    "collapsed": true
   },
   "outputs": [],
   "source": [
    "collisions = 'data/collisions.csv'\n",
    "jan = 'data/1january.csv'\n",
    "feb = 'data/2february.csv'\n",
    "march = 'data/3march.csv'\n",
    "april = 'data/4april.csv'\n",
    "may = 'data/5may.csv'\n",
    "june = 'data/6june.csv'\n",
    "\n",
    "collisions = sc.textFile(collisions, use_unicode=False).cache()\n",
    "janTrips = sc.textFile(jan,use_unicode=False).cache()\n",
    "febTrips = sc.textFile(feb,use_unicode=False).cache()\n",
    "marchTrips = sc.textFile(march,use_unicode=False).cache()\n",
    "aprilTrips = sc.textFile(april,use_unicode=False).cache()\n",
    "mayTrips = sc.textFile(may,use_unicode=False).cache()\n",
    "juneTrips = sc.textFile(june,use_unicode=False).cache()"
   ]
  },
  {
   "cell_type": "code",
   "execution_count": 69,
   "metadata": {
    "collapsed": true
   },
   "outputs": [],
   "source": [
    "def extractTrips(partitionId,partition):\n",
    "    if partitionId == 0:\n",
    "        partition.next()\n",
    "    import csv\n",
    "    reader = csv.reader(partition)\n",
    "    for row in reader:\n",
    "        if row[1] and row[2] !='0' and row[6] and row [7] != '0':\n",
    "            pickup = row[1][0:6],row[2][0:7]\n",
    "            dropoff = row[6][0:6],row[7][0:7]       \n",
    "            yield (pickup,1)\n",
    "            yield (dropoff,1)"
   ]
  },
  {
   "cell_type": "code",
   "execution_count": 35,
   "metadata": {
    "collapsed": true
   },
   "outputs": [],
   "source": [
    "# def extractTrips(partitionId,partition):\n",
    "#     if partitionId == 0:\n",
    "#         partition.next()\n",
    "#     import csv\n",
    "#     reader = csv.reader(partition)\n",
    "#     for row in reader:\n",
    "#         if row[1] and row[2] !='0' and row[6] and row [7] != '0':\n",
    "#             pickup = row[1],row[2]\n",
    "#             dropoff = row[6],row[7]\n",
    "#             yield (pickup,1)\n",
    "#             yield (dropoff,1)\n"
   ]
  },
  {
   "cell_type": "code",
   "execution_count": 61,
   "metadata": {
    "collapsed": true
   },
   "outputs": [],
   "source": [
    "def extractCyclists(partitionId,partition):\n",
    "    if partitionId == 0:\n",
    "        partition.next()\n",
    "    import csv\n",
    "    reader = csv.reader(partition)\n",
    "    for row in reader:\n",
    "        if row[14]!= '' and row[14] != '0':\n",
    "            lat = row[6].split(',')[0][1:7] + '' , '' + row[6].split(',')[1][0:7]\n",
    "            injured = int(row[14]) + int(row[15])    # includes injury and death\n",
    "            yield (lat),injured"
   ]
  },
  {
   "cell_type": "code",
   "execution_count": 63,
   "metadata": {
    "collapsed": false
   },
   "outputs": [],
   "source": [
    "cyclistAccidents = collisions.mapPartitionsWithIndex(extractCyclists).reduceByKey(lambda x,y: x+y)\n"
   ]
  },
  {
   "cell_type": "code",
   "execution_count": 64,
   "metadata": {
    "collapsed": false
   },
   "outputs": [
    {
     "data": {
      "text/plain": [
       "[(('40.871', '-73.858'), 2),\n",
       " (('40.749', '-73.864'), 6),\n",
       " (('40.760', '-73.969'), 6),\n",
       " (('40.754', '-73.976'), 1),\n",
       " (('40.684', '-73.838'), 2),\n",
       " (('40.721', '-73.956'), 2),\n",
       " (('40.771', '-73.908'), 4),\n",
       " (('40.655', '-73.766'), 1),\n",
       " (('40.635', '-74.006'), 2),\n",
       " (('40.735', '-73.869'), 1),\n",
       " (('40.757', '-73.750'), 1),\n",
       " (('40.632', '-73.888'), 1),\n",
       " (('40.856', '-73.906'), 1),\n",
       " (('40.880', '-73.883'), 1),\n",
       " (('40.809', '-73.947'), 1),\n",
       " (('40.770', '-73.927'), 1),\n",
       " (('40.610', '-74.146'), 1),\n",
       " (('40.672', '-73.903'), 2),\n",
       " (('40.728', '-74.009'), 1),\n",
       " (('40.748', '-73.895'), 1)]"
      ]
     },
     "execution_count": 64,
     "metadata": {},
     "output_type": "execute_result"
    }
   ],
   "source": [
    "cyclistAccidents.take(20)"
   ]
  },
  {
   "cell_type": "code",
   "execution_count": 15,
   "metadata": {
    "collapsed": false
   },
   "outputs": [
    {
     "data": {
      "text/plain": [
       "10482803"
      ]
     },
     "execution_count": 15,
     "metadata": {},
     "output_type": "execute_result"
    }
   ],
   "source": [
    "janTrips.count()\n",
    "#cyclistAccidents.join(janTrips).take(20)\n"
   ]
  },
  {
   "cell_type": "code",
   "execution_count": 31,
   "metadata": {
    "collapsed": false
   },
   "outputs": [
    {
     "data": {
      "text/plain": [
       "[(('40.8113', '-73.9311'), 3),\n",
       " (('40.6877', '-73.9438'), 12),\n",
       " (('40.7616', '-73.9650'), 60),\n",
       " (('40.6947', '-73.9192'), 3),\n",
       " (('40.7456', '-73.9827'), 29),\n",
       " (('40.7612', '-73.9598'), 30),\n",
       " (('40.7286', '-73.9763'), 58),\n",
       " (('40.7458', '-73.9790'), 12),\n",
       " (('40.7043', '-73.9872'), 1),\n",
       " (('40.7093', '-74.0601'), 1)]"
      ]
     },
     "execution_count": 31,
     "metadata": {},
     "output_type": "execute_result"
    }
   ],
   "source": [
    "january_taxi = janTrips.mapPartitionsWithIndex(extractTrips).reduceByKey(lambda x, y: x+y)\n",
    "january_taxi.take(10)"
   ]
  },
  {
   "cell_type": "code",
   "execution_count": 32,
   "metadata": {
    "collapsed": false
   },
   "outputs": [
    {
     "data": {
      "text/plain": [
       "836723"
      ]
     },
     "execution_count": 32,
     "metadata": {},
     "output_type": "execute_result"
    }
   ],
   "source": [
    "january_taxi.count()"
   ]
  },
  {
   "cell_type": "code",
   "execution_count": 50,
   "metadata": {
    "collapsed": false
   },
   "outputs": [],
   "source": [
    "january_taxi_old = janTrips.mapPartitionsWithIndex(extractTrips2).reduceByKey(lambda x, y: x+y)\n",
    "january_taxi_old.count()"
   ]
  },
  {
   "cell_type": "code",
   "execution_count": 70,
   "metadata": {
    "collapsed": false
   },
   "outputs": [],
   "source": [
    "jan_taxi = janTrips.mapPartitionsWithIndex(extractTrips).reduceByKey(lambda x, y: x+y)\n",
    "#jan_taxi.count()"
   ]
  },
  {
   "cell_type": "code",
   "execution_count": 46,
   "metadata": {
    "collapsed": false
   },
   "outputs": [
    {
     "data": {
      "text/plain": [
       "21813716"
      ]
     },
     "execution_count": 46,
     "metadata": {},
     "output_type": "execute_result"
    }
   ],
   "source": [
    "test_taxi.take(20)\n",
    "test_taxi.values().sum()"
   ]
  },
  {
   "cell_type": "code",
   "execution_count": 47,
   "metadata": {
    "collapsed": false
   },
   "outputs": [
    {
     "data": {
      "text/plain": [
       "21813716"
      ]
     },
     "execution_count": 47,
     "metadata": {},
     "output_type": "execute_result"
    }
   ],
   "source": [
    "january_taxi.values().sum()"
   ]
  },
  {
   "cell_type": "code",
   "execution_count": 52,
   "metadata": {
    "collapsed": false
   },
   "outputs": [
    {
     "data": {
      "text/plain": [
       "[(('40.8113', '-73.9311'), 3),\n",
       " (('40.6877', '-73.9438'), 12),\n",
       " (('40.7616', '-73.9650'), 60),\n",
       " (('40.6947', '-73.9192'), 3),\n",
       " (('40.7456', '-73.9827'), 29),\n",
       " (('40.7612', '-73.9598'), 30),\n",
       " (('40.7286', '-73.9763'), 58),\n",
       " (('40.7458', '-73.9790'), 12),\n",
       " (('40.7043', '-73.9872'), 1),\n",
       " (('40.7093', '-74.0601'), 1),\n",
       " (('40.7593', '-73.9410'), 2),\n",
       " (('40.7364', '-73.9842'), 8),\n",
       " (('40.6591', '-73.9148'), 2),\n",
       " (('40.7305', '-73.9988'), 23),\n",
       " (('40.7884', '-73.9512'), 4),\n",
       " (('40.7269', '-73.8290'), 1),\n",
       " (('40.8450', '-73.9407'), 9),\n",
       " (('40.7767', '-73.9482'), 4),\n",
       " (('40.7286', '-73.9959'), 1),\n",
       " (('40.7780', '-73.9136'), 1)]"
      ]
     },
     "execution_count": 52,
     "metadata": {},
     "output_type": "execute_result"
    }
   ],
   "source": [
    "jan_taxi.take(20)"
   ]
  },
  {
   "cell_type": "code",
   "execution_count": 71,
   "metadata": {
    "collapsed": false
   },
   "outputs": [],
   "source": [
    "feb_taxi = febTrips.mapPartitionsWithIndex(extractTrips).reduceByKey(lambda x, y: x+y)\n",
    "#feb_taxi.count()"
   ]
  },
  {
   "cell_type": "code",
   "execution_count": 55,
   "metadata": {
    "collapsed": false
   },
   "outputs": [
    {
     "data": {
      "text/plain": [
       "22764098"
      ]
     },
     "execution_count": 55,
     "metadata": {},
     "output_type": "execute_result"
    }
   ],
   "source": [
    "feb_taxi.values().sum()"
   ]
  },
  {
   "cell_type": "code",
   "execution_count": 72,
   "metadata": {
    "collapsed": true
   },
   "outputs": [],
   "source": [
    "jan_feb = feb_taxi.join(jan_taxi).mapValues(lambda x: x[0]+x[1])"
   ]
  },
  {
   "cell_type": "code",
   "execution_count": 57,
   "metadata": {
    "collapsed": false
   },
   "outputs": [
    {
     "data": {
      "text/plain": [
       "591319"
      ]
     },
     "execution_count": 57,
     "metadata": {},
     "output_type": "execute_result"
    }
   ],
   "source": [
    "jan_feb.count()"
   ]
  },
  {
   "cell_type": "code",
   "execution_count": 58,
   "metadata": {
    "collapsed": false
   },
   "outputs": [
    {
     "data": {
      "text/plain": [
       "43908352"
      ]
     },
     "execution_count": 58,
     "metadata": {},
     "output_type": "execute_result"
    }
   ],
   "source": [
    "jan_feb.values().sum()"
   ]
  },
  {
   "cell_type": "code",
   "execution_count": 59,
   "metadata": {
    "collapsed": false
   },
   "outputs": [
    {
     "data": {
      "text/plain": [
       "[(('40.7719', '-73.9030'), 3),\n",
       " (('40.6827', '-73.9417'), 7),\n",
       " (('40.7068', '-74.0095'), 31),\n",
       " (('40.7492', '-73.9724'), 284),\n",
       " (('40.7173', '-73.9942'), 52),\n",
       " (('40.8085', '-73.9262'), 2),\n",
       " (('40.7541', '-73.9653'), 7),\n",
       " (('40.7710', '-73.9899'), 4),\n",
       " (('40.7221', '-73.9500'), 63),\n",
       " (('40.7269', '-73.8529'), 3),\n",
       " (('40.7429', '-73.9803'), 184),\n",
       " (('40.7197', '-74.008'), 8),\n",
       " (('40.6167', '-74.0232'), 3),\n",
       " (('40.6582', '-73.9208'), 2),\n",
       " (('40.7444', '-73.9932'), 6),\n",
       " (('40.7161', '-74.0028'), 11),\n",
       " (('40.6692', '-73.9352'), 4),\n",
       " (('40.7179', '-74.0036'), 2),\n",
       " (('40.8126', '-73.9510'), 3),\n",
       " (('40.7840', '-73.9705'), 180)]"
      ]
     },
     "execution_count": 59,
     "metadata": {},
     "output_type": "execute_result"
    }
   ],
   "source": [
    "jan_feb.take(20)"
   ]
  },
  {
   "cell_type": "code",
   "execution_count": 73,
   "metadata": {
    "collapsed": true
   },
   "outputs": [],
   "source": [
    "total_data = jan_feb.join(cyclistAccidents)"
   ]
  },
  {
   "cell_type": "code",
   "execution_count": 74,
   "metadata": {
    "collapsed": false
   },
   "outputs": [
    {
     "data": {
      "text/plain": [
       "7652"
      ]
     },
     "execution_count": 74,
     "metadata": {},
     "output_type": "execute_result"
    }
   ],
   "source": [
    "total_data.count()"
   ]
  },
  {
   "cell_type": "code",
   "execution_count": null,
   "metadata": {
    "collapsed": true
   },
   "outputs": [],
   "source": []
  }
 ],
 "metadata": {
  "kernelspec": {
   "display_name": "Python Kernel",
   "language": "python",
   "name": "python2"
  },
  "language_info": {
   "codemirror_mode": {
    "name": "ipython",
    "version": 2
   },
   "file_extension": ".py",
   "mimetype": "text/x-python",
   "name": "python",
   "nbconvert_exporter": "python",
   "pygments_lexer": "ipython2",
   "version": "2.7.13"
  }
 },
 "nbformat": 4,
 "nbformat_minor": 2
}
