{
 "cells": [
  {
   "cell_type": "markdown",
   "metadata": {},
   "source": [
    "## Task: Taking the Collision data and the Taxi data can we find correlation between accidents and the dropoff/pickup of taxis in the city?\n",
    "\n",
    "### Which Borough has the most accidents? - Collision\n",
    "### What are the victims break down (e.g. How many pedestrians, cyclist, ... were killed/injured in each borough? -  Collision"
   ]
  },
  {
   "cell_type": "code",
   "execution_count": null,
   "metadata": {
    "collapsed": true
   },
   "outputs": [],
   "source": []
  },
  {
   "cell_type": "code",
   "execution_count": 31,
   "metadata": {},
   "outputs": [
    {
     "data": {
      "text/plain": [
       "<pyspark.context.SparkContext at 0x479a588>"
      ]
     },
     "execution_count": 31,
     "metadata": {},
     "output_type": "execute_result"
    }
   ],
   "source": [
    "sc"
   ]
  },
  {
   "cell_type": "code",
   "execution_count": 32,
   "metadata": {},
   "outputs": [
    {
     "name": "stdout",
     "output_type": "stream",
     "text": [
      "/c/Anaconda3/envs/ipykernel_py2/python\n"
     ]
    }
   ],
   "source": [
    "!which python # Using personal envs since I'm on windows and trying to avoid conflicts with Python 2.7 and 3.5"
   ]
  },
  {
   "cell_type": "code",
   "execution_count": 3,
   "metadata": {
    "collapsed": true
   },
   "outputs": [],
   "source": [
    "import csv, pyproj, shapely.geometry as geom, numpy as np\n",
    "proj = pyproj.Proj(init='epsg:2263', preserve_units=True)\n",
    "COLLISIONS_FN = 'collisions.csv'\n",
    "JANUARY_FN = '1january.csv'"
   ]
  },
  {
   "cell_type": "code",
   "execution_count": 4,
   "metadata": {
    "collapsed": true
   },
   "outputs": [],
   "source": [
    "collisons = sc.textFile(COLLISIONS_FN,use_unicode=False).cache()\n",
    "january = sc.textFile(JANUARY_FN,use_unicode=False).cache()"
   ]
  },
  {
   "cell_type": "code",
   "execution_count": 47,
   "metadata": {},
   "outputs": [
    {
     "name": "stdout",
     "output_type": "stream",
     "text": [
      "[(0, 'DATE'), (1, 'TIME'), (2, 'BOROUGH'), (3, 'ZIP CODE'), (4, 'LATITUDE'), (5, 'LONGITUDE'), (6, 'LOCATION'), (7, 'ON STREET NAME'), (8, 'CROSS STREET NAME'), (9, 'OFF STREET NAME'), (10, 'NUMBER OF PERSONS INJURED'), (11, 'NUMBER OF PERSONS KILLED'), (12, 'NUMBER OF PEDESTRIANS INJURED'), (13, 'NUMBER OF PEDESTRIANS KILLED'), (14, 'NUMBER OF CYCLIST INJURED'), (15, 'NUMBER OF CYCLIST KILLED'), (16, 'NUMBER OF MOTORIST INJURED'), (17, 'NUMBER OF MOTORIST KILLED'), (18, 'CONTRIBUTING FACTOR VEHICLE 1'), (19, 'CONTRIBUTING FACTOR VEHICLE 2'), (20, 'CONTRIBUTING FACTOR VEHICLE 3'), (21, 'CONTRIBUTING FACTOR VEHICLE 4'), (22, 'CONTRIBUTING FACTOR VEHICLE 5'), (23, 'UNIQUE KEY'), (24, 'VEHICLE TYPE CODE 1'), (25, 'VEHICLE TYPE CODE 2'), (26, 'VEHICLE TYPE CODE 3'), (27, 'VEHICLE TYPE CODE 4'), (28, 'VEHICLE TYPE CODE 5')]\n"
     ]
    }
   ],
   "source": [
    "print list(enumerate(collisons.first().split(',')))\n",
    "# extract the number of collisions based on Boroughs with those that were killed and hurt."
   ]
  },
  {
   "cell_type": "code",
   "execution_count": 51,
   "metadata": {},
   "outputs": [
    {
     "data": {
      "text/plain": [
       "[('BRONX', '40.866047', '-73.882744', 'Driver Inexperience', ''),\n",
       " ('BROOKLYN', '40.63347', '-74.02102', 'Unspecified', ''),\n",
       " ('BROOKLYN', '40.728416', '-73.952415', 'Unspecified', ''),\n",
       " ('QUEENS', '40.748928', '-73.91375', 'Unspecified', ''),\n",
       " ('QUEENS', '40.766445', '-73.83404', '', ''),\n",
       " ('', '40.843365', '-73.91545', 'Unspecified', ''),\n",
       " ('', '40.675785', '-73.90269', '', ''),\n",
       " ('BROOKLYN', '40.72516', '-73.9466', 'Unspecified', ''),\n",
       " ('BROOKLYN', '40.60771', '-73.95715', '', ''),\n",
       " ('BRONX', '40.8313', '-73.84458', 'Unspecified', '')]"
      ]
     },
     "execution_count": 51,
     "metadata": {},
     "output_type": "execute_result"
    }
   ],
   "source": [
    "def extractConFacVeh(partID, records): # Location of Contributing Factors\n",
    "    if partID==0:\n",
    "        records.next()\n",
    "    import csv\n",
    "    reader = csv.reader(records)\n",
    "    for row in reader:\n",
    "        if len(row)==29:\n",
    "            (boro,lat,lon,vehOne,vehTwo) = (row[2],row[4] ,row[5] ,row[19], row[20])\n",
    "            yield (boro, lat, lon, vehOne,vehTwo)\n",
    "            \n",
    "pedResults = collisons.mapPartitionsWithIndex(extractConFacVeh)\n",
    "pedResults.take(10)"
   ]
  },
  {
   "cell_type": "code",
   "execution_count": 52,
   "metadata": {},
   "outputs": [
    {
     "data": {
      "text/plain": [
       "[('BRONX', '40.866047', '-73.882744', '0', '0'),\n",
       " ('BROOKLYN', '40.63347', '-74.02102', '0', '0'),\n",
       " ('BROOKLYN', '40.728416', '-73.952415', '0', '0'),\n",
       " ('QUEENS', '40.748928', '-73.91375', '0', '0'),\n",
       " ('QUEENS', '40.766445', '-73.83404', '0', '0'),\n",
       " ('', '40.843365', '-73.91545', '0', '0'),\n",
       " ('', '40.675785', '-73.90269', '0', '0'),\n",
       " ('BROOKLYN', '40.72516', '-73.9466', '0', '0'),\n",
       " ('BROOKLYN', '40.60771', '-73.95715', '1', '0'),\n",
       " ('BRONX', '40.8313', '-73.84458', '0', '0')]"
      ]
     },
     "execution_count": 52,
     "metadata": {},
     "output_type": "execute_result"
    }
   ],
   "source": [
    "def extractPedestrains(partID, records): # Pedestrains involved\n",
    "    if partID==0:\n",
    "        records.next()\n",
    "    import csv\n",
    "    reader = csv.reader(records)\n",
    "    for row in reader:\n",
    "        if len(row)==29:\n",
    "            (boro,lat,lon,pedInj,pedKill) = (row[2], row[4], row[5], row[12], row[13])\n",
    "            yield (boro, lat, lon, pedInj,pedKill)\n",
    "            \n",
    "pedResults = collisons.mapPartitionsWithIndex(extractPedestrains)\n",
    "pedResults.take(10)"
   ]
  },
  {
   "cell_type": "code",
   "execution_count": 53,
   "metadata": {},
   "outputs": [
    {
     "data": {
      "text/plain": [
       "[('BRONX', '0', '0'),\n",
       " ('BROOKLYN', '0', '0'),\n",
       " ('BROOKLYN', '0', '0'),\n",
       " ('QUEENS', '0', '0'),\n",
       " ('QUEENS', '0', '0'),\n",
       " ('', '0', '0'),\n",
       " ('', '0', '0'),\n",
       " ('BROOKLYN', '0', '0'),\n",
       " ('BROOKLYN', '0', '0'),\n",
       " ('BRONX', '0', '0')]"
      ]
     },
     "execution_count": 53,
     "metadata": {},
     "output_type": "execute_result"
    }
   ],
   "source": [
    "def extractCyclist(partID, records): # Cyclist\n",
    "    if partID==0:\n",
    "        records.next()\n",
    "    import csv\n",
    "    reader = csv.reader(records)\n",
    "    for row in reader:\n",
    "        if len(row)==29:\n",
    "            (boro,ck,ci) = (row[2], row[14], row[15])\n",
    "            yield (boro, ck, ci)\n",
    "            \n",
    "cycResults = collisons.mapPartitionsWithIndex(extractCyclist)\n",
    "cycResults.take(10)"
   ]
  },
  {
   "cell_type": "code",
   "execution_count": 55,
   "metadata": {},
   "outputs": [
    {
     "data": {
      "text/plain": [
       "[('BRONX', '40.866047', '-73.882744', '0', '0'),\n",
       " ('BROOKLYN', '40.63347', '-74.02102', '0', '0'),\n",
       " ('BROOKLYN', '40.728416', '-73.952415', '0', '0'),\n",
       " ('QUEENS', '40.748928', '-73.91375', '0', '0'),\n",
       " ('QUEENS', '40.766445', '-73.83404', '0', '0'),\n",
       " ('', '40.843365', '-73.91545', '0', '0'),\n",
       " ('', '40.675785', '-73.90269', '0', '0'),\n",
       " ('BROOKLYN', '40.72516', '-73.9466', '1', '0'),\n",
       " ('BROOKLYN', '40.60771', '-73.95715', '0', '0'),\n",
       " ('BRONX', '40.8313', '-73.84458', '4', '0')]"
      ]
     },
     "execution_count": 55,
     "metadata": {},
     "output_type": "execute_result"
    }
   ],
   "source": [
    "def extractMotorist(partID, records): # Motorist\n",
    "    if partID==0:\n",
    "        records.next()\n",
    "    import csv\n",
    "    reader = csv.reader(records)\n",
    "    for row in reader:\n",
    "        if len(row)==29:\n",
    "            (boro,lat,lon,motInj,motKill) = (row[2],row[4] ,row[5] ,row[16], row[17])\n",
    "            yield (boro, lat, lon, motInj,motKill)\n",
    "            \n",
    "pedResults = collisons.mapPartitionsWithIndex(extractMotorist)\n",
    "pedResults.take(10)"
   ]
  },
  {
   "cell_type": "code",
   "execution_count": 8,
   "metadata": {},
   "outputs": [
    {
     "name": "stdout",
     "output_type": "stream",
     "text": [
      "[(0, 'pickup_datetime'), (1, 'pickup_latitude'), (2, 'pickup_longitude'), (3, 'trip_distance'), (4, 'passenger_count'), (5, 'dropoff_datetime'), (6, 'dropoff_latitude'), (7, 'dropoff_longitude'), (8, 'fare_amount'), (9, 'tolls_amount'), (10, 'taxes_amount'), (11, 'tip_amount'), (12, 'payment_amount'), (13, 'payment_type')]\n"
     ]
    }
   ],
   "source": [
    "print list(enumerate(january.first().split(',')))"
   ]
  },
  {
   "cell_type": "code",
   "execution_count": 42,
   "metadata": {},
   "outputs": [
    {
     "data": {
      "text/plain": [
       "[('40.7347', '-73.99037', 2),\n",
       " ('40.72991', '-73.98078', 5),\n",
       " ('40.67957', '-73.98455', 1),\n",
       " ('40.71899', '-73.99347', 1),\n",
       " ('40.78133', '-73.96062', 3)]"
      ]
     },
     "execution_count": 42,
     "metadata": {},
     "output_type": "execute_result"
    }
   ],
   "source": [
    "# We can take the long/lat of how many passengers were picked up\n",
    "def extractPickUp(partID, records):\n",
    "    if partID==0:\n",
    "        records.next()\n",
    "    import csv\n",
    "    reader = csv.reader(records)\n",
    "    for row in reader:\n",
    "        if len(row)==14:\n",
    "            (pLat,pLong,pass_count) = (row[1],row[2],int(row[4]))\n",
    "            yield (pLat,pLong,pass_count)\n",
    "            \n",
    "passResults = january.mapPartitionsWithIndex(extractPickUp)\n",
    "passResults.take(5)"
   ]
  },
  {
   "cell_type": "code",
   "execution_count": 45,
   "metadata": {},
   "outputs": [
    {
     "data": {
      "text/plain": [
       "[('40.73241', '-73.98184', 2),\n",
       " ('40.71668', '-73.94447', 5),\n",
       " ('40.78893', '-73.95027', 1),\n",
       " ('40.65733', '-73.96224', 1),\n",
       " ('40.75851', '-73.97726', 3)]"
      ]
     },
     "execution_count": 45,
     "metadata": {},
     "output_type": "execute_result"
    }
   ],
   "source": [
    "def extractDropOff(partID, records):\n",
    "    if partID==0:\n",
    "        records.next()\n",
    "    import csv\n",
    "    reader = csv.reader(records)\n",
    "    for row in reader:\n",
    "        if len(row)==14:\n",
    "            (dLat,dLong,pass_count) = (row[6],row[7],int(row[4]))\n",
    "            yield (dLat,dLong,pass_count)\n",
    "            \n",
    "passResults = january.mapPartitionsWithIndex(extractDropOff)\n",
    "passResults.take(5)"
   ]
  }
 ],
 "metadata": {
  "kernelspec": {
   "display_name": "Python 2",
   "language": "python",
   "name": "python2"
  },
  "language_info": {
   "codemirror_mode": {
    "name": "ipython",
    "version": 2
   },
   "file_extension": ".py",
   "mimetype": "text/x-python",
   "name": "python",
   "nbconvert_exporter": "python",
   "pygments_lexer": "ipython2",
   "version": "2.7.13"
  }
 },
 "nbformat": 4,
 "nbformat_minor": 1
}
