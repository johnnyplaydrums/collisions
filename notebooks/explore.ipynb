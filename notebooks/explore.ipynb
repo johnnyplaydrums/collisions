{
 "cells": [
  {
   "cell_type": "code",
   "execution_count": 8,
   "metadata": {
    "collapsed": false
   },
   "outputs": [
    {
     "data": {
      "text/plain": [
       "<pyspark.context.SparkContext at 0x10f02c710>"
      ]
     },
     "execution_count": 8,
     "metadata": {},
     "output_type": "execute_result"
    }
   ],
   "source": [
    "sc"
   ]
  },
  {
   "cell_type": "code",
   "execution_count": 9,
   "metadata": {
    "collapsed": true
   },
   "outputs": [],
   "source": [
    "import csv, pyproj, shapely.geometry as geom, numpy as np\n",
    "proj = pyproj.Proj(init='epsg:2263', preserve_units=True)\n",
    "COLLISIONS_FN = '../data/collisions.csv'\n",
    "JANUARY_FN = '../data/1january.csv'"
   ]
  },
  {
   "cell_type": "code",
   "execution_count": 10,
   "metadata": {
    "collapsed": true
   },
   "outputs": [],
   "source": [
    "collisons = sc.textFile(COLLISIONS_FN,use_unicode=False).cache()\n",
    "january = sc.textFile(JANUARY_FN,use_unicode=False).cache()"
   ]
  },
  {
   "cell_type": "code",
   "execution_count": 11,
   "metadata": {
    "collapsed": false
   },
   "outputs": [
    {
     "name": "stdout",
     "output_type": "stream",
     "text": [
      "[(0, 'DATE'), (1, 'TIME'), (2, 'BOROUGH'), (3, 'ZIP CODE'), (4, 'LATITUDE'), (5, 'LONGITUDE'), (6, 'LOCATION'), (7, 'ON STREET NAME'), (8, 'CROSS STREET NAME'), (9, 'OFF STREET NAME'), (10, 'NUMBER OF PERSONS INJURED'), (11, 'NUMBER OF PERSONS KILLED'), (12, 'NUMBER OF PEDESTRIANS INJURED'), (13, 'NUMBER OF PEDESTRIANS KILLED'), (14, 'NUMBER OF CYCLIST INJURED'), (15, 'NUMBER OF CYCLIST KILLED'), (16, 'NUMBER OF MOTORIST INJURED'), (17, 'NUMBER OF MOTORIST KILLED'), (18, 'CONTRIBUTING FACTOR VEHICLE 1'), (19, 'CONTRIBUTING FACTOR VEHICLE 2'), (20, 'CONTRIBUTING FACTOR VEHICLE 3'), (21, 'CONTRIBUTING FACTOR VEHICLE 4'), (22, 'CONTRIBUTING FACTOR VEHICLE 5'), (23, 'UNIQUE KEY'), (24, 'VEHICLE TYPE CODE 1'), (25, 'VEHICLE TYPE CODE 2'), (26, 'VEHICLE TYPE CODE 3'), (27, 'VEHICLE TYPE CODE 4'), (28, 'VEHICLE TYPE CODE 5')]\n",
      "[(0, 'pickup_datetime'), (1, 'pickup_latitude'), (2, 'pickup_longitude'), (3, 'trip_distance'), (4, 'passenger_count'), (5, 'dropoff_datetime'), (6, 'dropoff_latitude'), (7, 'dropoff_longitude'), (8, 'fare_amount'), (9, 'tolls_amount'), (10, 'taxes_amount'), (11, 'tip_amount'), (12, 'payment_amount'), (13, 'payment_type')]\n"
     ]
    }
   ],
   "source": [
    "print list(enumerate(collisons.first().split(',')))\n",
    "print list(enumerate(january.first().split(',')))"
   ]
  },
  {
   "cell_type": "code",
   "execution_count": null,
   "metadata": {
    "collapsed": true
   },
   "outputs": [],
   "source": []
  }
 ],
 "metadata": {
  "kernelspec": {
   "display_name": "Python 2.7",
   "language": "python",
   "name": "python2"
  },
  "language_info": {
   "codemirror_mode": {
    "name": "ipython",
    "version": 2
   },
   "file_extension": ".py",
   "mimetype": "text/x-python",
   "name": "python",
   "nbconvert_exporter": "python",
   "pygments_lexer": "ipython2",
   "version": "2.7.10"
  }
 },
 "nbformat": 4,
 "nbformat_minor": 2
}
